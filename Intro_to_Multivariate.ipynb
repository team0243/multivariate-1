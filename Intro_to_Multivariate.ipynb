{
  "nbformat": 4,
  "nbformat_minor": 0,
  "metadata": {
    "colab": {
      "name": "Intro to Multivariate.ipynb",
      "provenance": [],
      "authorship_tag": "ABX9TyPjkg4pXeOmRhgt/QUdLBPf",
      "include_colab_link": true
    },
    "kernelspec": {
      "name": "python3",
      "display_name": "Python 3"
    }
  },
  "cells": [
    {
      "cell_type": "markdown",
      "metadata": {
        "id": "view-in-github",
        "colab_type": "text"
      },
      "source": [
        "<a href=\"https://colab.research.google.com/github/tohnperfect/multivariate/blob/main/Intro_to_Multivariate.ipynb\" target=\"_parent\"><img src=\"https://colab.research.google.com/assets/colab-badge.svg\" alt=\"Open In Colab\"/></a>"
      ]
    },
    {
      "cell_type": "markdown",
      "metadata": {
        "id": "q1pc93ZTiCWi"
      },
      "source": [
        "ธนพงศ์ อินทระ ID xxxxxxxxx\r\n",
        "\r\n",
        "\r\n",
        "\r\n",
        "0.   เรียนในห้อง (ยังไง)\r\n",
        "1.   เรียนออนไลน์ปกติ\r\n",
        "2.   อัด วิดีโอ ลงกลุ่ม facebook แล้วมาตอบคอมเม้น\r\n",
        "3.   ..... \r\n",
        "\r\n"
      ]
    },
    {
      "cell_type": "code",
      "metadata": {
        "colab": {
          "base_uri": "https://localhost:8080/"
        },
        "id": "t-MjNqwdhUTo",
        "outputId": "45c02c0f-84cb-4ca0-8250-bf7ce33a6791"
      },
      "source": [
        "print('ธนพงศ์') #single quote (') ใช้ล้อมรอบข้อความ"
      ],
      "execution_count": 3,
      "outputs": [
        {
          "output_type": "stream",
          "text": [
            "ธนพงศ์\n"
          ],
          "name": "stdout"
        }
      ]
    }
  ]
}